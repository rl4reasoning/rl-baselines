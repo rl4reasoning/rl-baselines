{
 "cells": [
  {
   "cell_type": "code",
   "execution_count": 37,
   "id": "4d99c3de",
   "metadata": {},
   "outputs": [],
   "source": [
    "from datasets import Dataset, DatasetDict, load_dataset, concatenate_datasets\n",
    "from huggingface_hub import HfApi\n",
    "import os"
   ]
  },
  {
   "cell_type": "code",
   "execution_count": null,
   "id": "97d802b5",
   "metadata": {},
   "outputs": [],
   "source": [
    "dataset_names = [\n",
    "    \"HF link to dataset 1\",\n",
    "    \"HF link to dataset 2\",\n",
    "    \"HF link to dataset 3\", # this should be the hardest dataset -- we create test dataset using this in the combined dataset\n",
    "]"
   ]
  },
  {
   "cell_type": "code",
   "execution_count": 39,
   "id": "f2af988f",
   "metadata": {},
   "outputs": [],
   "source": [
    "# load datasets from HF\n",
    "datasets = [load_dataset(name) for name in dataset_names]"
   ]
  },
  {
   "cell_type": "code",
   "execution_count": 40,
   "id": "22608001",
   "metadata": {},
   "outputs": [],
   "source": [
    "# combine train splits\n",
    "train_datasets = [ds[\"train\"] for ds in datasets]\n",
    "combined_train = concatenate_datasets(train_datasets)\n",
    "\n",
    "# take last dataset as test split\n",
    "test_dataset = datasets[-1][\"test\"]\n",
    "\n",
    "# create combined dataset dict\n",
    "combined_dataset = DatasetDict({\n",
    "    \"train\": combined_train,\n",
    "    \"test\": test_dataset\n",
    "})"
   ]
  },
  {
   "cell_type": "code",
   "execution_count": 41,
   "id": "88dbeea5",
   "metadata": {},
   "outputs": [
    {
     "data": {
      "text/plain": [
       "[Dataset({\n",
       "     features: ['question', 'answer'],\n",
       "     num_rows: 9000\n",
       " }),\n",
       " Dataset({\n",
       "     features: ['question', 'answer'],\n",
       "     num_rows: 9000\n",
       " }),\n",
       " Dataset({\n",
       "     features: ['question', 'answer'],\n",
       "     num_rows: 9000\n",
       " })]"
      ]
     },
     "execution_count": 41,
     "metadata": {},
     "output_type": "execute_result"
    }
   ],
   "source": [
    "train_datasets"
   ]
  },
  {
   "cell_type": "code",
   "execution_count": null,
   "id": "898d0173",
   "metadata": {},
   "outputs": [],
   "source": [
    "combined_dataset"
   ]
  },
  {
   "cell_type": "code",
   "execution_count": null,
   "id": "e57b1757",
   "metadata": {},
   "outputs": [],
   "source": [
    "# change the repo name !!!\n",
    "repo_name = \"hf_username/dataset1_dataset2_mixed\""
   ]
  },
  {
   "cell_type": "code",
   "execution_count": null,
   "id": "d27d52f9",
   "metadata": {},
   "outputs": [],
   "source": [
    "combined_dataset.push_to_hub(\n",
    "    repo_name,\n",
    "    token=\"\", # insert your HF token here\n",
    ")"
   ]
  },
  {
   "cell_type": "code",
   "execution_count": null,
   "id": "be39da0f",
   "metadata": {},
   "outputs": [],
   "source": []
  }
 ],
 "metadata": {
  "kernelspec": {
   "display_name": "rl",
   "language": "python",
   "name": "python3"
  },
  "language_info": {
   "codemirror_mode": {
    "name": "ipython",
    "version": 3
   },
   "file_extension": ".py",
   "mimetype": "text/x-python",
   "name": "python",
   "nbconvert_exporter": "python",
   "pygments_lexer": "ipython3",
   "version": "3.10.18"
  }
 },
 "nbformat": 4,
 "nbformat_minor": 5
}
